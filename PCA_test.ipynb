{
 "cells": [
  {
   "cell_type": "code",
   "execution_count": 1,
   "metadata": {
    "ExecuteTime": {
     "end_time": "2020-08-14T08:31:24.891144Z",
     "start_time": "2020-08-14T08:31:23.332075Z"
    }
   },
   "outputs": [],
   "source": [
    "import pandas as pd\n",
    "#from Outlier_Detection.knn_model_hanju import knn_model\n",
    "#from Outlier_Detection.lof_model_hanju import loc_model\n",
    "\n",
    "from Outlier_Detection.sort_date import sort_date\n",
    "from Outlier_Detection.remove_nan import remove_nan\n",
    "import Outlier_Detection.outlier_detection_hanju as md\n",
    "import Outlier_Detection.get_outlier_tbl as ot\n",
    "\n",
    "import matplotlib.pyplot as plt\n",
    "import numpy as np"
   ]
  },
  {
   "cell_type": "code",
   "execution_count": 2,
   "metadata": {
    "ExecuteTime": {
     "end_time": "2020-08-14T08:31:29.082211Z",
     "start_time": "2020-08-14T08:31:27.657916Z"
    }
   },
   "outputs": [],
   "source": [
    "file_name = 'C:/Users/interXlab01/Desktop/DATA/Hanju/CSV/1/201805.csv'\n",
    "df = pd.read_csv(file_name,low_memory=False, index_col=None, encoding='utf-8')\n",
    "\n",
    "df = remove_nan(sort_date(df))\n",
    "\n",
    "line1_1 = df[df['작업라인']=='전자교반 1라인 1호기']\n",
    "line1_1 = line1_1[line1_1['품명']=='IG CARRIER-RR RH']\n",
    "plot_data = line1_1\n"
   ]
  },
  {
   "cell_type": "code",
   "execution_count": 21,
   "metadata": {
    "ExecuteTime": {
     "end_time": "2020-08-18T07:01:50.102522Z",
     "start_time": "2020-08-18T07:01:50.071770Z"
    }
   },
   "outputs": [
    {
     "name": "stdout",
     "output_type": "stream",
     "text": [
      "118581    688\n",
      "118577    688\n",
      "118573    688\n",
      "118565    688\n",
      "118559    689\n",
      "         ... \n",
      "43        686\n",
      "29        687\n",
      "17        687\n",
      "10        688\n",
      "1         689\n",
      "Name: 저속구간속도, Length: 10115, dtype: int64\n",
      "[[-0.08225408]\n",
      " [-0.08225408]\n",
      " [-0.08225408]\n",
      " ...\n",
      " [-1.08225408]\n",
      " [-0.08225408]\n",
      " [ 0.91774592]]\n"
     ]
    },
    {
     "ename": "IndexError",
     "evalue": "index 1 is out of bounds for axis 1 with size 1",
     "output_type": "error",
     "traceback": [
      "\u001b[1;31m---------------------------------------------------------------------------\u001b[0m",
      "\u001b[1;31mIndexError\u001b[0m                                Traceback (most recent call last)",
      "\u001b[1;32m<ipython-input-21-256f8e3af5d0>\u001b[0m in \u001b[0;36m<module>\u001b[1;34m\u001b[0m\n\u001b[0;32m     24\u001b[0m             \u001b[0mprint\u001b[0m\u001b[1;33m(\u001b[0m\u001b[0mx_pca\u001b[0m\u001b[1;33m)\u001b[0m\u001b[1;33m\u001b[0m\u001b[1;33m\u001b[0m\u001b[0m\n\u001b[0;32m     25\u001b[0m             \u001b[0mplt\u001b[0m\u001b[1;33m.\u001b[0m\u001b[0mfigure\u001b[0m\u001b[1;33m(\u001b[0m\u001b[0mfigsize\u001b[0m\u001b[1;33m=\u001b[0m\u001b[1;33m(\u001b[0m\u001b[1;36m8\u001b[0m\u001b[1;33m,\u001b[0m\u001b[1;36m6\u001b[0m\u001b[1;33m)\u001b[0m\u001b[1;33m)\u001b[0m\u001b[1;33m\u001b[0m\u001b[1;33m\u001b[0m\u001b[0m\n\u001b[1;32m---> 26\u001b[1;33m             \u001b[0mplt\u001b[0m\u001b[1;33m.\u001b[0m\u001b[0mscatter\u001b[0m\u001b[1;33m(\u001b[0m\u001b[0mx_pca\u001b[0m\u001b[1;33m[\u001b[0m\u001b[1;33m:\u001b[0m\u001b[1;33m,\u001b[0m\u001b[1;36m0\u001b[0m\u001b[1;33m]\u001b[0m\u001b[1;33m,\u001b[0m\u001b[0mx_pca\u001b[0m\u001b[1;33m[\u001b[0m\u001b[1;33m:\u001b[0m\u001b[1;33m,\u001b[0m\u001b[1;36m1\u001b[0m\u001b[1;33m]\u001b[0m\u001b[1;33m,\u001b[0m\u001b[0mc\u001b[0m\u001b[1;33m=\u001b[0m\u001b[0mcancer\u001b[0m\u001b[1;33m[\u001b[0m\u001b[1;34m'target'\u001b[0m\u001b[1;33m]\u001b[0m\u001b[1;33m,\u001b[0m\u001b[0mcmap\u001b[0m\u001b[1;33m=\u001b[0m\u001b[1;34m'rainbow'\u001b[0m\u001b[1;33m)\u001b[0m\u001b[1;33m\u001b[0m\u001b[1;33m\u001b[0m\u001b[0m\n\u001b[0m\u001b[0;32m     27\u001b[0m             \u001b[0mplt\u001b[0m\u001b[1;33m.\u001b[0m\u001b[0mxlabel\u001b[0m\u001b[1;33m(\u001b[0m\u001b[1;34m'First principal component'\u001b[0m\u001b[1;33m)\u001b[0m\u001b[1;33m\u001b[0m\u001b[1;33m\u001b[0m\u001b[0m\n\u001b[0;32m     28\u001b[0m             \u001b[0mplt\u001b[0m\u001b[1;33m.\u001b[0m\u001b[0mylabel\u001b[0m\u001b[1;33m(\u001b[0m\u001b[1;34m'Second Principal Component'\u001b[0m\u001b[1;33m)\u001b[0m\u001b[1;33m\u001b[0m\u001b[1;33m\u001b[0m\u001b[0m\n",
      "\u001b[1;31mIndexError\u001b[0m: index 1 is out of bounds for axis 1 with size 1"
     ]
    },
    {
     "data": {
      "text/plain": [
       "<Figure size 576x432 with 0 Axes>"
      ]
     },
     "metadata": {},
     "output_type": "display_data"
    }
   ],
   "source": [
    "from sklearn.decomposition import PCA\n",
    "\n",
    "\n",
    "data = plot_data[plot_data['작업라인']=='전자교반 1라인 1호기']\n",
    "del data['금형코드']\n",
    "del data['전자교반 가동시간']\n",
    "del data['생산수량']\n",
    "\n",
    "data = data[data['품명']=='IG CARRIER-RR RH']\n",
    "outlier_tbl = pd.DataFrame(columns=['Working no','Variable name','Value','Algorithm name','date'])\n",
    "\n",
    "n = 0 #column number\n",
    "for i in data.dtypes:\n",
    "    if i == np.int64 or i == np.float64 : # 정수형만 outlier 제거\n",
    "            print(data.iloc[:,n])\n",
    "            # nan값 채우기\n",
    "            data.iloc[:,n] = data.iloc[:,n].interpolate(method='linear', order=1, limit_direction='both')\n",
    "\n",
    "            #-------------------------------------------\n",
    "            pca = PCA(n_components=1)\n",
    "            pca.fit(data.iloc[:,n].to_numpy().reshape(-1,1))\n",
    "            #-------------------------------------------\n",
    "            x_pca = pca.transform(data.iloc[:,n].to_numpy().reshape(-1,1))\n",
    "            print(x_pca)\n",
    "            plt.figure(figsize=(8,6))\n",
    "            plt.scatter(x_pca[:,0],x_pca[:,1],c=cancer['target'],cmap='rainbow')\n",
    "            plt.xlabel('First principal component')\n",
    "            plt.ylabel('Second Principal Component')\n",
    "\n",
    "    n+=1\n",
    "\n",
    "    \n",
    "    \n",
    "    \n",
    "        \n",
    "        \n"
   ]
  },
  {
   "cell_type": "code",
   "execution_count": null,
   "metadata": {},
   "outputs": [],
   "source": []
  }
 ],
 "metadata": {
  "kernelspec": {
   "display_name": "Python 3",
   "language": "python",
   "name": "python3"
  },
  "language_info": {
   "codemirror_mode": {
    "name": "ipython",
    "version": 3
   },
   "file_extension": ".py",
   "mimetype": "text/x-python",
   "name": "python",
   "nbconvert_exporter": "python",
   "pygments_lexer": "ipython3",
   "version": "3.7.6"
  }
 },
 "nbformat": 4,
 "nbformat_minor": 4
}
